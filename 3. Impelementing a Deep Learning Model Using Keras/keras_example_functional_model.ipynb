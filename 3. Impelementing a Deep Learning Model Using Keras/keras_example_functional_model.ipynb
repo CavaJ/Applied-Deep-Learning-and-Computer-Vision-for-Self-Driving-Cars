{
 "cells": [
  {
   "cell_type": "code",
   "execution_count": 1,
   "id": "c468179a-24ef-4613-8ed7-a8b98233d5f8",
   "metadata": {},
   "outputs": [],
   "source": [
    "# disable Jedi for better autocomplete\n",
    "%config Completer.use_jedi = False\n",
    "\n",
    "# you can make it permanent by adding the following line to your Jupyter config file\n",
    "# ~/.jupyter/jupyter_notebook_config.py\n",
    "# c.Completer.use_jedi = False"
   ]
  },
  {
   "cell_type": "code",
   "execution_count": 2,
   "id": "dfa9b077-953d-4d74-b4af-172d8af506bb",
   "metadata": {},
   "outputs": [],
   "source": [
    "import numpy as np\n",
    "import tensorflow as tf\n",
    "from tensorflow import keras\n",
    "from tensorflow.keras import layers"
   ]
  },
  {
   "cell_type": "code",
   "execution_count": 3,
   "id": "01a815c2-65ce-41ce-83a4-f4ffb0691bde",
   "metadata": {},
   "outputs": [],
   "source": [
    "x = np.zeros((10, 10), dtype='float32')\n",
    "inputs = keras.Input(shape=(10, ))\n",
    "x = layers.Dense(units=20, activation='relu') (x)\n",
    "x = layers.Dense(units=20, activation='relu') (x)\n",
    "outputs = layers.Dense(units=10, activation='softmax') (x)"
   ]
  },
  {
   "cell_type": "code",
   "execution_count": null,
   "id": "d9c3814a-79d9-4729-a920-946bdcf67ca7",
   "metadata": {},
   "outputs": [],
   "source": [
    "# in the functional model, we have a concept called 'domain adaptation'. What we used to do is to train on domain A and test on domain B.\n",
    "# the results used to be poor for the test dataset.\n",
    "# the solution was to adapt the model to both domains. this can be done using keras.\n",
    "model=keras.Model(inputs, outputs)\n",
    "model.fit(x, y, epochs=10, batch_size=32)"
   ]
  },
  {
   "cell_type": "code",
   "execution_count": null,
   "id": "f0bb5b91-459e-49c9-9b75-b8a12af5ca70",
   "metadata": {},
   "outputs": [],
   "source": []
  }
 ],
 "metadata": {
  "kernelspec": {
   "display_name": "Python 3 (ipykernel)",
   "language": "python",
   "name": "python3"
  },
  "language_info": {
   "codemirror_mode": {
    "name": "ipython",
    "version": 3
   },
   "file_extension": ".py",
   "mimetype": "text/x-python",
   "name": "python",
   "nbconvert_exporter": "python",
   "pygments_lexer": "ipython3",
   "version": "3.7.16"
  }
 },
 "nbformat": 4,
 "nbformat_minor": 5
}
