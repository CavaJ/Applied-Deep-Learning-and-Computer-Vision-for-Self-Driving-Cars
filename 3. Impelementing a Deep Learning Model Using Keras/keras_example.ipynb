{
 "cells": [
  {
   "cell_type": "code",
   "execution_count": 5,
   "id": "9a38e6cf-296d-4096-89e1-00eb571b9a1d",
   "metadata": {},
   "outputs": [],
   "source": [
    "%config Completer.use_jedi = False"
   ]
  },
  {
   "cell_type": "code",
   "execution_count": 6,
   "id": "56879763-953b-45dc-8728-c7b792055cb9",
   "metadata": {},
   "outputs": [
    {
     "data": {
      "text/plain": [
       "'C:\\\\Users\\\\CavaJ\\\\anaconda3\\\\envs\\\\tf_env\\\\python.exe'"
      ]
     },
     "execution_count": 6,
     "metadata": {},
     "output_type": "execute_result"
    }
   ],
   "source": [
    "import sys\n",
    "sys.executable"
   ]
  },
  {
   "cell_type": "code",
   "execution_count": 7,
   "id": "ca13fc7d-2072-46a8-9ec0-cc6a1d771cb1",
   "metadata": {},
   "outputs": [],
   "source": [
    "import tensorflow as tf\n",
    "from tensorflow import keras\n",
    "from tensorflow.keras import layers"
   ]
  },
  {
   "cell_type": "code",
   "execution_count": 8,
   "id": "45b7fa09-f8ad-4d5d-9383-9e01a1d1aa72",
   "metadata": {},
   "outputs": [],
   "source": [
    "# we will define the model as a sequential model and then add a flatten layer. \n",
    "model = tf.keras.Sequential()\n",
    "model.add(tf.keras.layers.Flatten())\n",
    "\n",
    "# with the hidden layers, in each layer we have 128 neurons and the activation function is ReLU.\n",
    "model.add(tf.keras.layers.Dense(units=128, activation=tf.nn.relu))\n",
    "model.add(tf.keras.layers.Dense(units=128, activation=tf.nn.relu))\n",
    "\n",
    "# the last layer has 10 neurons and a softmax function; it turns logits into probabilities that sum to one\n",
    "model.add(tf.keras.layers.Dense(units=10, activation=tf.nn.softmax))"
   ]
  },
  {
   "cell_type": "code",
   "execution_count": null,
   "id": "fea4aed0-d706-4181-b8af-9f5ce8f7f4a6",
   "metadata": {},
   "outputs": [],
   "source": [
    "# finally, model.compile and model.fit are used to train the network\n",
    "model.compile(optimizer='adam', loss='sparse_categorical_crossentropy', metrics=['accuracy'])\n",
    "\n",
    "# here the are 10 epochs and the batch size is 32\n",
    "model.fit(x, y, epochs=10, batch_size=32)"
   ]
  },
  {
   "cell_type": "code",
   "execution_count": null,
   "id": "9d2294e0-75be-4389-ba31-45bc65ee0204",
   "metadata": {},
   "outputs": [],
   "source": []
  }
 ],
 "metadata": {
  "kernelspec": {
   "display_name": "Python 3 (ipykernel)",
   "language": "python",
   "name": "python3"
  },
  "language_info": {
   "codemirror_mode": {
    "name": "ipython",
    "version": 3
   },
   "file_extension": ".py",
   "mimetype": "text/x-python",
   "name": "python",
   "nbconvert_exporter": "python",
   "pygments_lexer": "ipython3",
   "version": "3.7.16"
  }
 },
 "nbformat": 4,
 "nbformat_minor": 5
}
